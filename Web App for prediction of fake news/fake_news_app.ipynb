{
 "cells": [
  {
   "cell_type": "markdown",
   "metadata": {},
   "source": [
    "# Building a Web App to identify true and fake news.\n",
    "\n",
    "I will work with CountVectorizer and Logistic Regression. In case Logistic Regression shouldn't provide good enough results I will check other models. I will try to automize the process with ColumnTransformer and Pipeline."
   ]
  },
  {
   "cell_type": "code",
   "execution_count": 1,
   "metadata": {
    "_cell_guid": "79c7e3d0-c299-4dcb-8224-4455121ee9b0",
    "_uuid": "d629ff2d2480ee46fbb7e2d37f6b5fab8052498a"
   },
   "outputs": [],
   "source": [
    "import pandas as pd\n",
    "import numpy as np\n",
    "import matplotlib.pyplot as plt\n",
    "%matplotlib inline\n",
    "import seaborn as sns\n",
    "import textwrap\n",
    "\n",
    "pd.options.display.width = 0\n",
    "pd.options.display.max_rows = None\n",
    "pd.options.display.float_format = \"{:.2f}\".format"
   ]
  },
  {
   "cell_type": "markdown",
   "metadata": {},
   "source": [
    "## Data pre-processing and analysis"
   ]
  },
  {
   "cell_type": "code",
   "execution_count": 2,
   "metadata": {},
   "outputs": [],
   "source": [
    "fake_news_train = pd.read_csv(\"D:\\\\Coding_data\\\\fake_news_train.csv\")\n",
    "fake_news_test_nolabs = pd.read_csv(\"D:\\\\Coding_data\\\\fake_news_test.csv\")\n",
    "fake_news_submit = pd.read_csv(\"D:\\\\Coding_data\\\\fake_news_submit.csv\")"
   ]
  },
  {
   "cell_type": "code",
   "execution_count": 3,
   "metadata": {},
   "outputs": [
    {
     "name": "stdout",
     "output_type": "stream",
     "text": [
      "   id                                              title              author  \\\n",
      "0   0  House Dem Aide: We Didn’t Even See Comey’s Let...       Darrell Lucus   \n",
      "1   1  FLYNN: Hillary Clinton, Big Woman on Campus - ...     Daniel J. Flynn   \n",
      "2   2                  Why the Truth Might Get You Fired  Consortiumnews.com   \n",
      "3   3  15 Civilians Killed In Single US Airstrike Hav...     Jessica Purkiss   \n",
      "4   4  Iranian woman jailed for fictional unpublished...      Howard Portnoy   \n",
      "\n",
      "                                                text  label  \n",
      "0  House Dem Aide: We Didn’t Even See Comey’s Let...      1  \n",
      "1  Ever get the feeling your life circles the rou...      0  \n",
      "2  Why the Truth Might Get You Fired October 29, ...      1  \n",
      "3  Videos 15 Civilians Killed In Single US Airstr...      1  \n",
      "4  Print \\nAn Iranian woman has been sentenced to...      1  \n"
     ]
    }
   ],
   "source": [
    "print(fake_news_train.head())"
   ]
  },
  {
   "cell_type": "code",
   "execution_count": 4,
   "metadata": {},
   "outputs": [
    {
     "name": "stdout",
     "output_type": "stream",
     "text": [
      "      id                                              title  \\\n",
      "0  20800  Specter of Trump Loosens Tongues, if Not Purse...   \n",
      "1  20801  Russian warships ready to strike terrorists ne...   \n",
      "2  20802  #NoDAPL: Native American Leaders Vow to Stay A...   \n",
      "3  20803  Tim Tebow Will Attempt Another Comeback, This ...   \n",
      "4  20804                    Keiser Report: Meme Wars (E995)   \n",
      "\n",
      "                    author                                               text  \n",
      "0         David Streitfeld  PALO ALTO, Calif.  —   After years of scorning...  \n",
      "1                      NaN  Russian warships ready to strike terrorists ne...  \n",
      "2            Common Dreams  Videos #NoDAPL: Native American Leaders Vow to...  \n",
      "3            Daniel Victor  If at first you don’t succeed, try a different...  \n",
      "4  Truth Broadcast Network  42 mins ago 1 Views 0 Comments 0 Likes 'For th...  \n"
     ]
    }
   ],
   "source": [
    "print(fake_news_test_nolabs.head())"
   ]
  },
  {
   "cell_type": "code",
   "execution_count": 5,
   "metadata": {},
   "outputs": [
    {
     "name": "stdout",
     "output_type": "stream",
     "text": [
      "      id  label\n",
      "0  20800      0\n",
      "1  20801      1\n",
      "2  20802      0\n",
      "3  20803      1\n",
      "4  20804      1\n"
     ]
    }
   ],
   "source": [
    "print(fake_news_submit.head())"
   ]
  },
  {
   "cell_type": "markdown",
   "metadata": {},
   "source": [
    "Due to the fact that the test data and the test labels are in separated files I will first merge these two."
   ]
  },
  {
   "cell_type": "code",
   "execution_count": 6,
   "metadata": {},
   "outputs": [],
   "source": [
    "fake_news_test = pd.merge(fake_news_test_nolabs, fake_news_submit, on=\"id\")"
   ]
  },
  {
   "cell_type": "markdown",
   "metadata": {},
   "source": [
    "Lets check if we merged it correct? And yes all seems to be fine."
   ]
  },
  {
   "cell_type": "code",
   "execution_count": 7,
   "metadata": {},
   "outputs": [
    {
     "data": {
      "text/html": [
       "<div>\n",
       "<style scoped>\n",
       "    .dataframe tbody tr th:only-of-type {\n",
       "        vertical-align: middle;\n",
       "    }\n",
       "\n",
       "    .dataframe tbody tr th {\n",
       "        vertical-align: top;\n",
       "    }\n",
       "\n",
       "    .dataframe thead th {\n",
       "        text-align: right;\n",
       "    }\n",
       "</style>\n",
       "<table border=\"1\" class=\"dataframe\">\n",
       "  <thead>\n",
       "    <tr style=\"text-align: right;\">\n",
       "      <th></th>\n",
       "      <th>id</th>\n",
       "      <th>title</th>\n",
       "      <th>author</th>\n",
       "      <th>text</th>\n",
       "      <th>label</th>\n",
       "    </tr>\n",
       "  </thead>\n",
       "  <tbody>\n",
       "    <tr>\n",
       "      <th>0</th>\n",
       "      <td>20800</td>\n",
       "      <td>Specter of Trump Loosens Tongues, if Not Purse...</td>\n",
       "      <td>David Streitfeld</td>\n",
       "      <td>PALO ALTO, Calif.  —   After years of scorning...</td>\n",
       "      <td>0</td>\n",
       "    </tr>\n",
       "    <tr>\n",
       "      <th>1</th>\n",
       "      <td>20801</td>\n",
       "      <td>Russian warships ready to strike terrorists ne...</td>\n",
       "      <td>NaN</td>\n",
       "      <td>Russian warships ready to strike terrorists ne...</td>\n",
       "      <td>1</td>\n",
       "    </tr>\n",
       "    <tr>\n",
       "      <th>2</th>\n",
       "      <td>20802</td>\n",
       "      <td>#NoDAPL: Native American Leaders Vow to Stay A...</td>\n",
       "      <td>Common Dreams</td>\n",
       "      <td>Videos #NoDAPL: Native American Leaders Vow to...</td>\n",
       "      <td>0</td>\n",
       "    </tr>\n",
       "    <tr>\n",
       "      <th>3</th>\n",
       "      <td>20803</td>\n",
       "      <td>Tim Tebow Will Attempt Another Comeback, This ...</td>\n",
       "      <td>Daniel Victor</td>\n",
       "      <td>If at first you don’t succeed, try a different...</td>\n",
       "      <td>1</td>\n",
       "    </tr>\n",
       "    <tr>\n",
       "      <th>4</th>\n",
       "      <td>20804</td>\n",
       "      <td>Keiser Report: Meme Wars (E995)</td>\n",
       "      <td>Truth Broadcast Network</td>\n",
       "      <td>42 mins ago 1 Views 0 Comments 0 Likes 'For th...</td>\n",
       "      <td>1</td>\n",
       "    </tr>\n",
       "  </tbody>\n",
       "</table>\n",
       "</div>"
      ],
      "text/plain": [
       "      id                                              title  \\\n",
       "0  20800  Specter of Trump Loosens Tongues, if Not Purse...   \n",
       "1  20801  Russian warships ready to strike terrorists ne...   \n",
       "2  20802  #NoDAPL: Native American Leaders Vow to Stay A...   \n",
       "3  20803  Tim Tebow Will Attempt Another Comeback, This ...   \n",
       "4  20804                    Keiser Report: Meme Wars (E995)   \n",
       "\n",
       "                    author                                               text  \\\n",
       "0         David Streitfeld  PALO ALTO, Calif.  —   After years of scorning...   \n",
       "1                      NaN  Russian warships ready to strike terrorists ne...   \n",
       "2            Common Dreams  Videos #NoDAPL: Native American Leaders Vow to...   \n",
       "3            Daniel Victor  If at first you don’t succeed, try a different...   \n",
       "4  Truth Broadcast Network  42 mins ago 1 Views 0 Comments 0 Likes 'For th...   \n",
       "\n",
       "   label  \n",
       "0      0  \n",
       "1      1  \n",
       "2      0  \n",
       "3      1  \n",
       "4      1  "
      ]
     },
     "execution_count": 7,
     "metadata": {},
     "output_type": "execute_result"
    }
   ],
   "source": [
    "fake_news_test.head()"
   ]
  },
  {
   "cell_type": "markdown",
   "metadata": {},
   "source": [
    "Let's have a quick look on the basic informations about the data:"
   ]
  },
  {
   "cell_type": "code",
   "execution_count": 8,
   "metadata": {},
   "outputs": [
    {
     "name": "stdout",
     "output_type": "stream",
     "text": [
      "<class 'pandas.core.frame.DataFrame'>\n",
      "RangeIndex: 20800 entries, 0 to 20799\n",
      "Data columns (total 5 columns):\n",
      " #   Column  Non-Null Count  Dtype \n",
      "---  ------  --------------  ----- \n",
      " 0   id      20800 non-null  int64 \n",
      " 1   title   20242 non-null  object\n",
      " 2   author  18843 non-null  object\n",
      " 3   text    20761 non-null  object\n",
      " 4   label   20800 non-null  int64 \n",
      "dtypes: int64(2), object(3)\n",
      "memory usage: 812.6+ KB\n"
     ]
    }
   ],
   "source": [
    "fake_news_train.info()"
   ]
  },
  {
   "cell_type": "code",
   "execution_count": 9,
   "metadata": {},
   "outputs": [
    {
     "name": "stdout",
     "output_type": "stream",
     "text": [
      "<class 'pandas.core.frame.DataFrame'>\n",
      "Int64Index: 5200 entries, 0 to 5199\n",
      "Data columns (total 5 columns):\n",
      " #   Column  Non-Null Count  Dtype \n",
      "---  ------  --------------  ----- \n",
      " 0   id      5200 non-null   int64 \n",
      " 1   title   5078 non-null   object\n",
      " 2   author  4697 non-null   object\n",
      " 3   text    5193 non-null   object\n",
      " 4   label   5200 non-null   int64 \n",
      "dtypes: int64(2), object(3)\n",
      "memory usage: 243.8+ KB\n"
     ]
    }
   ],
   "source": [
    "fake_news_test.info()"
   ]
  },
  {
   "cell_type": "markdown",
   "metadata": {},
   "source": [
    "So there are some missing values I suppose in 'title', 'author', 'text'. I will have a look on it."
   ]
  },
  {
   "cell_type": "code",
   "execution_count": 10,
   "metadata": {},
   "outputs": [
    {
     "data": {
      "text/plain": [
       "558"
      ]
     },
     "execution_count": 10,
     "metadata": {},
     "output_type": "execute_result"
    }
   ],
   "source": [
    "fake_news_train['title'].isnull().sum()"
   ]
  },
  {
   "cell_type": "code",
   "execution_count": null,
   "metadata": {},
   "outputs": [],
   "source": [
    "fake_news_train[fake_news_train['title'].isnull()]"
   ]
  },
  {
   "cell_type": "code",
   "execution_count": 12,
   "metadata": {},
   "outputs": [],
   "source": [
    "no_title = fake_news_train[\n",
    "    (fake_news_train['id'] == 10049)\n",
    "]"
   ]
  },
  {
   "cell_type": "code",
   "execution_count": 13,
   "metadata": {},
   "outputs": [
    {
     "name": "stdout",
     "output_type": "stream",
     "text": [
      "\n",
      "---- Text if no title from article ID:\n",
      "\t Israel.\n"
     ]
    }
   ],
   "source": [
    "for text in no_title['text']:\n",
    "    print(\"\\n---- Text if no title from article ID:\\n\\t\", \"\\n\".join(textwrap.wrap(text, width=100)))"
   ]
  },
  {
   "cell_type": "markdown",
   "metadata": {},
   "source": [
    "So all listings without title are strange, it seems that they are kind of comments to articles or maybe tweets! We can notice that all of these cases are labeled with 1 - unreliable!!!"
   ]
  },
  {
   "cell_type": "code",
   "execution_count": 14,
   "metadata": {},
   "outputs": [
    {
     "data": {
      "text/plain": [
       "1957"
      ]
     },
     "execution_count": 14,
     "metadata": {},
     "output_type": "execute_result"
    }
   ],
   "source": [
    "fake_news_train['author'].isnull().sum()"
   ]
  },
  {
   "cell_type": "code",
   "execution_count": null,
   "metadata": {},
   "outputs": [],
   "source": [
    "fake_news_train[fake_news_train['author'].isnull()]"
   ]
  },
  {
   "cell_type": "code",
   "execution_count": 16,
   "metadata": {},
   "outputs": [],
   "source": [
    "no_author = fake_news_train[\n",
    "    (fake_news_train['id'] == 1859)\n",
    "]"
   ]
  },
  {
   "cell_type": "code",
   "execution_count": 17,
   "metadata": {},
   "outputs": [
    {
     "name": "stdout",
     "output_type": "stream",
     "text": [
      "\n",
      "---- Title if no author from article ID:\n",
      "\t Стоит ли ожидать конца войны в Сирии? | Новое восточное обозрение\n"
     ]
    }
   ],
   "source": [
    "for title in no_author['title']:\n",
    "    print(\"\\n---- Title if no author from article ID:\\n\\t\", \"\\n\".join(textwrap.wrap(title, width=100)))"
   ]
  },
  {
   "cell_type": "code",
   "execution_count": 18,
   "metadata": {},
   "outputs": [
    {
     "name": "stdout",
     "output_type": "stream",
     "text": [
      "\n",
      "---- Text if no author from article ID:\n",
      "\t Страна: Сирия В своей новой статье постоянный обозреватель НВО Тони Карталучи отмечает, что многие\n",
      "до сих пор связывают надежды на окончание конфликта в Сирии с фигурой Дональда Трампа. Автор\n",
      "напоминает, что агрессия против Дамаска является лишь частью более грандиозного плана по уничтожению\n",
      "Ирана, который был запущен в действие Джорджем Бушем и затем подхвачен администрацией Барака Обамы.\n",
      "И поскольку среди ближайших советников Трампа внимательный наблюдатель может заметить немало\n",
      "неоконов, единственная надежда сирийского народа на мир продолжает таиться где-то на поле боя. С\n",
      "полной версией статьи вы можете ознакомиться здесь . Популярные статьи\n"
     ]
    }
   ],
   "source": [
    "for text in no_author['text']:\n",
    "    print(\"\\n---- Text if no author from article ID:\\n\\t\", \"\\n\".join(textwrap.wrap(text, width=100)))"
   ]
  },
  {
   "cell_type": "markdown",
   "metadata": {},
   "source": [
    "So here the author is unknown but still we have the title and the text. Noticable almost all of these articles are labeled with 1 - unreliable!!!"
   ]
  },
  {
   "cell_type": "code",
   "execution_count": 19,
   "metadata": {},
   "outputs": [
    {
     "data": {
      "text/plain": [
       "39"
      ]
     },
     "execution_count": 19,
     "metadata": {},
     "output_type": "execute_result"
    }
   ],
   "source": [
    "fake_news_train['text'].isnull().sum()"
   ]
  },
  {
   "cell_type": "code",
   "execution_count": null,
   "metadata": {
    "scrolled": true
   },
   "outputs": [],
   "source": [
    "fake_news_train[fake_news_train['text'].isnull()]"
   ]
  },
  {
   "cell_type": "code",
   "execution_count": 21,
   "metadata": {},
   "outputs": [],
   "source": [
    "no_text = fake_news_train[\n",
    "    (fake_news_train['id'] == 14499)\n",
    "]"
   ]
  },
  {
   "cell_type": "code",
   "execution_count": 22,
   "metadata": {},
   "outputs": [
    {
     "name": "stdout",
     "output_type": "stream",
     "text": [
      "\n",
      "---- Title if no text from article ID:\n",
      "\t Primaire – François Fillon se désiste au profit de Sarkzoy après la découverte d’une tête de cheval\n",
      "dans son lit >> Le Gorafi\n"
     ]
    }
   ],
   "source": [
    "for title in no_text['title']:\n",
    "    print(\"\\n---- Title if no text from article ID:\\n\\t\", \"\\n\".join(textwrap.wrap(title, width=100)))"
   ]
  },
  {
   "cell_type": "markdown",
   "metadata": {},
   "source": [
    "All cases without text are in french lenguage and they all are kind of signed with Le Gorafi. They all as well are labeled with 1 - unreliable!!!\n",
    "\n",
    "We just checked train data and i the .info() of test data we see the same situation. I will leave it for the moment like that and go further with the data analysis.\n",
    "\n",
    "I saw also that the data contains strings (articles) in different languages. Let's check it."
   ]
  },
  {
   "cell_type": "code",
   "execution_count": 23,
   "metadata": {},
   "outputs": [],
   "source": [
    "# fake_news_train_clear = fake_news_train[fake_news_train['title'].notna()]\n",
    "# print(fake_news_train_clear.info())"
   ]
  },
  {
   "cell_type": "markdown",
   "metadata": {},
   "source": [
    "<class 'pandas.core.frame.DataFrame'>\n",
    "\n",
    "Int64Index: 20242 entries, 0 to 20799\n",
    "\n",
    "Data columns (total 5 columns):\n",
    "\n",
    "Column  Non-Null Count  Dtype \n",
    "\n",
    "---  ------  --------------  ----- \n",
    "\n",
    "0   id      20242 non-null  int64 \n",
    "\n",
    "1   title   20242 non-null  object\n",
    "\n",
    "2   author  18285 non-null  object\n",
    "\n",
    "3   text    20203 non-null  object\n",
    "\n",
    "4   label   20242 non-null  int64 \n",
    "\n",
    "dtypes: int64(2), object(3)\n",
    "\n",
    "memory usage: 948.8+ KB"
   ]
  },
  {
   "cell_type": "code",
   "execution_count": 24,
   "metadata": {},
   "outputs": [],
   "source": [
    "# import spacy\n",
    "# from spacy_langdetect import LanguageDetector\n",
    "# from operator import itemgetter\n",
    "# from collections import Counter\n",
    "\n",
    "# nlp = spacy.load('en_core_web_sm')\n",
    "# nlp.add_pipe(LanguageDetector(), name='language_detector', last=True)\n",
    "# texts = fake_news_train_clean['title']\n",
    "\n",
    "# languages = []\n",
    "\n",
    "# for text in texts:\n",
    "#   doc = nlp(text)\n",
    "#   for sent in doc.sents:\n",
    "#     languages.append(sent._.language)\n",
    "\n",
    "# results = list(map(itemgetter('language'), languages))\n",
    "# print(Counter(results))"
   ]
  },
  {
   "cell_type": "markdown",
   "metadata": {},
   "source": [
    "Counter({'en': 26127, 'de': 1608, 'fr': 334, 'es': 331, 'ru': 262, 'UNKNOWN': 247, 'sv': 237, 'pt': 219, 'ca': 217, 'nl': 211, 'id': 211, 'it': 203, 'af': 196, 'tl': 192, 'so': 153, 'ro': 146, 'et': 142, 'no': 138, 'vi': 135, 'da': 105, 'cy': 97, 'fi': 71, 'pl': 68, 'sw': 66, 'tr': 59, 'lt': 42, 'hu': 36, 'hr': 32, 'ar': 31, 'bg': 25, 'sk': 16, 'sl': 14, 'mk': 14, 'cs': 13, 'lv': 13, 'uk': 7, 'sq': 5, 'el': 2, 'zh-cn': 1, 'fa': 1})"
   ]
  },
  {
   "cell_type": "markdown",
   "metadata": {},
   "source": [
    "So I had to do it outside of anaconda cause they don't leave me to install spacy_langdetect.\n",
    "\n",
    "But we see our languages, mostly here english, after long, long nothing and german as well as in smaller numbers other languages. Well is to say I had to remove NaN so it means 558 articles are not in the counting."
   ]
  },
  {
   "cell_type": "code",
   "execution_count": 25,
   "metadata": {},
   "outputs": [],
   "source": [
    "id_away = 'id'\n",
    "fake_news_train = fake_news_train.drop(id_away, axis=1)\n",
    "fake_news_test = fake_news_test.drop(id_away, axis=1)"
   ]
  },
  {
   "cell_type": "markdown",
   "metadata": {},
   "source": [
    "Let's throw out all the NaN so that CountVectorizer can work with the data."
   ]
  },
  {
   "cell_type": "code",
   "execution_count": 26,
   "metadata": {},
   "outputs": [],
   "source": [
    "fake_news_train = fake_news_train.fillna(' ')\n",
    "fake_news_test = fake_news_test.fillna(' ')"
   ]
  },
  {
   "cell_type": "code",
   "execution_count": 27,
   "metadata": {},
   "outputs": [
    {
     "name": "stdout",
     "output_type": "stream",
     "text": [
      "<class 'pandas.core.frame.DataFrame'>\n",
      "RangeIndex: 20800 entries, 0 to 20799\n",
      "Data columns (total 4 columns):\n",
      " #   Column  Non-Null Count  Dtype \n",
      "---  ------  --------------  ----- \n",
      " 0   title   20800 non-null  object\n",
      " 1   author  20800 non-null  object\n",
      " 2   text    20800 non-null  object\n",
      " 3   label   20800 non-null  int64 \n",
      "dtypes: int64(1), object(3)\n",
      "memory usage: 650.1+ KB\n",
      "None\n",
      "<class 'pandas.core.frame.DataFrame'>\n",
      "Int64Index: 5200 entries, 0 to 5199\n",
      "Data columns (total 4 columns):\n",
      " #   Column  Non-Null Count  Dtype \n",
      "---  ------  --------------  ----- \n",
      " 0   title   5200 non-null   object\n",
      " 1   author  5200 non-null   object\n",
      " 2   text    5200 non-null   object\n",
      " 3   label   5200 non-null   int64 \n",
      "dtypes: int64(1), object(3)\n",
      "memory usage: 203.1+ KB\n",
      "None\n"
     ]
    }
   ],
   "source": [
    "print(fake_news_train.info())\n",
    "print(fake_news_test.info())"
   ]
  },
  {
   "cell_type": "markdown",
   "metadata": {},
   "source": [
    "Let's have a look the length of news in both train and test set."
   ]
  },
  {
   "cell_type": "code",
   "execution_count": 28,
   "metadata": {},
   "outputs": [
    {
     "name": "stdout",
     "output_type": "stream",
     "text": [
      "The average number of words in train set news article is  758.8825480769231\n",
      "The average number of words in test set news article is  773.3794230769231\n",
      "The standard deviation in train set news article lengths is  869.3328658898075\n",
      "The standard deviation in test set news article lengths is  844.1962544923526\n"
     ]
    }
   ],
   "source": [
    "import statistics\n",
    "\n",
    "words_per_article_plot_train = fake_news_train[\"text\"].apply(lambda x: len(x.split()))\n",
    "stdev_train = statistics.stdev(words_per_article_plot_train)\n",
    "words_per_article_train = words_per_article_plot_train.sum()/len(fake_news_train[\"text\"])\n",
    "\n",
    "words_per_article_plot_test = fake_news_test[\"text\"].apply(lambda x: len(x.split()))\n",
    "stdev_test = statistics.stdev(words_per_article_plot_test)\n",
    "words_per_article_test = words_per_article_plot_test.sum()/len(fake_news_test[\"text\"])\n",
    "\n",
    "print (\"The average number of words in train set news article is \", words_per_article_train)\n",
    "print (\"The average number of words in test set news article is \", words_per_article_test)\n",
    "\n",
    "print (\"The standard deviation in train set news article lengths is \", stdev_train)\n",
    "print (\"The standard deviation in test set news article lengths is \", stdev_test)"
   ]
  },
  {
   "cell_type": "code",
   "execution_count": 29,
   "metadata": {},
   "outputs": [
    {
     "data": {
      "text/plain": [
       "Text(0.5, 1.0, 'Number of Words in Test Set News Article')"
      ]
     },
     "execution_count": 29,
     "metadata": {},
     "output_type": "execute_result"
    },
    {
     "data": {
      "image/png": "[encoded data removed]",
      "text/plain": [
       "<Figure size 1152x576 with 2 Axes>"
      ]
     },
     "metadata": {
      "needs_background": "light"
     },
     "output_type": "display_data"
    }
   ],
   "source": [
    "fig, ax = plt.subplots(1, 2, figsize=(16, 8))\n",
    "sns.distplot(words_per_article_plot_train, ax = ax[0], color = \"grey\", rug = True).set_title(\"Number of Words in Train Set News Article\")\n",
    "sns.distplot(words_per_article_plot_test, ax = ax[1], color = \"black\", rug = True).set_title(\"Number of Words in Test Set News Article\")"
   ]
  },
  {
   "cell_type": "markdown",
   "metadata": {},
   "source": [
    "News articles in test set are longer, on average, by 15 words. But there is less variance in their lengths, evidenced by a lower standard deviation. There are some outliersin both train and test set news articles being > 10000 words in length."
   ]
  },
  {
   "cell_type": "markdown",
   "metadata": {},
   "source": [
    "Now we could see if there is a difference in length of news in true and fake news."
   ]
  },
  {
   "cell_type": "code",
   "execution_count": 30,
   "metadata": {},
   "outputs": [],
   "source": [
    "frames = [fake_news_train, fake_news_test]\n",
    "all_news = pd.concat(frames, sort=False)\n",
    "fake_news = all_news[all_news['label'] == 1]\n",
    "true_news = all_news[all_news['label'] == 0]"
   ]
  },
  {
   "cell_type": "code",
   "execution_count": 31,
   "metadata": {},
   "outputs": [
    {
     "name": "stdout",
     "output_type": "stream",
     "text": [
      "--- Data copied to CSV ---\n"
     ]
    }
   ],
   "source": [
    "all_news.to_csv(\"all_news.csv\", index=False)\n",
    "print(\"--- Data copied to CSV ---\")"
   ]
  },
  {
   "cell_type": "code",
   "execution_count": 32,
   "metadata": {},
   "outputs": [],
   "source": [
    "all_news = pd.read_csv(\"D:\\\\Coding_data\\\\all_news.csv\")\n",
    "fake_news = all_news[all_news['label'] == 1]\n",
    "true_news = all_news[all_news['label'] == 0]"
   ]
  },
  {
   "cell_type": "code",
   "execution_count": 33,
   "metadata": {},
   "outputs": [
    {
     "name": "stdout",
     "output_type": "stream",
     "text": [
      "The average number of words in true news article is  963.8793807952223\n",
      "The average number of words in fake news article is  568.0277987042339\n",
      "The standard deviation in true news article lengths is  808.9962418212493\n",
      "The standard deviation in fake news article lengths is  871.3864488035506\n"
     ]
    }
   ],
   "source": [
    "words_per_article_plot_true = true_news[\"text\"].apply(lambda x: len(x.split()))\n",
    "stdev_true = statistics.stdev(words_per_article_plot_true)\n",
    "words_per_article_true = words_per_article_plot_true.sum()/len(true_news[\"text\"])\n",
    "\n",
    "words_per_article_plot_fake = fake_news[\"text\"].apply(lambda x: len(x.split()))\n",
    "stdev_fake = statistics.stdev(words_per_article_plot_fake)\n",
    "words_per_article_fake = words_per_article_plot_fake.sum()/len(fake_news[\"text\"])\n",
    "\n",
    "print (\"The average number of words in true news article is \", words_per_article_true)\n",
    "print (\"The average number of words in fake news article is \", words_per_article_fake)\n",
    "\n",
    "print (\"The standard deviation in true news article lengths is \", stdev_true)\n",
    "print (\"The standard deviation in fake news article lengths is \", stdev_fake)"
   ]
  },
  {
   "cell_type": "code",
   "execution_count": 34,
   "metadata": {},
   "outputs": [
    {
     "data": {
      "text/plain": [
       "Text(0.5, 1.0, 'Number of Words in FAKE News Article')"
      ]
     },
     "execution_count": 34,
     "metadata": {},
     "output_type": "execute_result"
    },
    {
     "data": {
      "image/png": "[encoded data removed]",
      "text/plain": [
       "<Figure size 1152x576 with 2 Axes>"
      ]
     },
     "metadata": {
      "needs_background": "light"
     },
     "output_type": "display_data"
    }
   ],
   "source": [
    "fig, ax = plt.subplots(1, 2, figsize=(16, 8))\n",
    "sns.distplot(words_per_article_plot_true, ax = ax[0], color = \"darkblue\", rug = True).set_title(\"Number of Words in TRUE News Article\")\n",
    "sns.distplot(words_per_article_plot_fake, ax = ax[1], color = \"red\", rug = True).set_title(\"Number of Words in FAKE News Article\")"
   ]
  },
  {
   "cell_type": "markdown",
   "metadata": {},
   "source": [
    "Soo there is a significant difference in the average length of the articles, the fake articles are almost 400 words shorter. The variance in length of fake articles is bigger as we can see from the higher standard deviation. In both true and fake news are some outliers with over 10000 words."
   ]
  },
  {
   "cell_type": "code",
   "execution_count": 35,
   "metadata": {},
   "outputs": [],
   "source": [
    "from textblob import TextBlob, Word, Blobber\n",
    "\n",
    "article_polarity_true = pd.DataFrame(columns=[\"article\", \"sentiment\"])\n",
    "for article in true_news[\"text\"]:\n",
    "    article = TextBlob(article)\n",
    "    article_polarity_true = article_polarity_true.append(pd.Series(\n",
    "        [article,article.sentiment.polarity], \n",
    "        index=article_polarity_true.columns), ignore_index=True)"
   ]
  },
  {
   "cell_type": "code",
   "execution_count": 36,
   "metadata": {},
   "outputs": [],
   "source": [
    "article_polarity_fake = pd.DataFrame(columns=[\"article\", \"sentiment\"])\n",
    "for article in fake_news[\"text\"]:\n",
    "    article = TextBlob(article)\n",
    "    article_polarity_fake = article_polarity_fake.append(pd.Series(\n",
    "        [article,article.sentiment.polarity], \n",
    "        index=article_polarity_true.columns), ignore_index=True)"
   ]
  },
  {
   "cell_type": "code",
   "execution_count": 37,
   "metadata": {},
   "outputs": [
    {
     "name": "stdout",
     "output_type": "stream",
     "text": [
      "0.07346464957706475\n",
      "0.0695802662742652\n"
     ]
    }
   ],
   "source": [
    "print(statistics.mean(article_polarity_true[\"sentiment\"]))\n",
    "print(statistics.mean(article_polarity_fake[\"sentiment\"]))"
   ]
  },
  {
   "cell_type": "code",
   "execution_count": 38,
   "metadata": {},
   "outputs": [
    {
     "data": {
      "text/plain": [
       "Text(0.5, 1.0, 'Fake News Article Sentiments')"
      ]
     },
     "execution_count": 38,
     "metadata": {},
     "output_type": "execute_result"
    },
    {
     "data": {
      "image/png": "[encoded data removed]",
      "text/plain": [
       "<Figure size 1152x576 with 2 Axes>"
      ]
     },
     "metadata": {
      "needs_background": "light"
     },
     "output_type": "display_data"
    }
   ],
   "source": [
    "fig, ax = plt.subplots(1, 2, figsize=(16, 8))\n",
    "sns.distplot(article_polarity_true[\"sentiment\"], ax = ax[0], color = \"darkblue\", rug = True).set_title(\"Real News Article Sentiments\")\n",
    "sns.distplot(article_polarity_fake[\"sentiment\"], ax = ax[1], color = \"red\", rug = True).set_title(\"Fake News Article Sentiments\")"
   ]
  },
  {
   "cell_type": "markdown",
   "metadata": {},
   "source": [
    "## Building the model"
   ]
  },
  {
   "cell_type": "markdown",
   "metadata": {},
   "source": [
    "So because I'm not really sure about this data, the guy which put it into kaggle doesn't really say something about the sources I will use the data I merged and concatenated before \"all_news\"."
   ]
  },
  {
   "cell_type": "code",
   "execution_count": 39,
   "metadata": {},
   "outputs": [],
   "source": [
    "from sklearn.model_selection import train_test_split\n",
    "\n",
    "predict = 'label'\n",
    "\n",
    "X = all_news.drop(predict, axis=1)\n",
    "y = all_news[predict].copy()\n",
    "\n",
    "X_train, X_test, y_train, y_test = train_test_split(X, y, test_size=0.3, random_state=42)"
   ]
  },
  {
   "cell_type": "code",
   "execution_count": 40,
   "metadata": {},
   "outputs": [
    {
     "data": {
      "text/plain": [
       "1    9303\n",
       "0    8897\n",
       "Name: label, dtype: int64"
      ]
     },
     "execution_count": 40,
     "metadata": {},
     "output_type": "execute_result"
    }
   ],
   "source": [
    "pd.value_counts(y_train)"
   ]
  },
  {
   "cell_type": "code",
   "execution_count": 41,
   "metadata": {},
   "outputs": [
    {
     "data": {
      "text/plain": [
       "1    3971\n",
       "0    3829\n",
       "Name: label, dtype: int64"
      ]
     },
     "execution_count": 41,
     "metadata": {},
     "output_type": "execute_result"
    }
   ],
   "source": [
    "pd.value_counts(y_test)"
   ]
  },
  {
   "cell_type": "code",
   "execution_count": 44,
   "metadata": {},
   "outputs": [
    {
     "name": "stdout",
     "output_type": "stream",
     "text": [
      "<class 'pandas.core.frame.DataFrame'>\n",
      "Int64Index: 18200 entries, 1101 to 23654\n",
      "Data columns (total 3 columns):\n",
      " #   Column  Non-Null Count  Dtype \n",
      "---  ------  --------------  ----- \n",
      " 0   title   18200 non-null  object\n",
      " 1   author  18200 non-null  object\n",
      " 2   text    18200 non-null  object\n",
      "dtypes: object(3)\n",
      "memory usage: 568.8+ KB\n"
     ]
    }
   ],
   "source": [
    "X_train.info()"
   ]
  },
  {
   "cell_type": "code",
   "execution_count": 26,
   "metadata": {},
   "outputs": [
    {
     "data": {
      "text/html": [
       "<div>\n",
       "<style scoped>\n",
       "    .dataframe tbody tr th:only-of-type {\n",
       "        vertical-align: middle;\n",
       "    }\n",
       "\n",
       "    .dataframe tbody tr th {\n",
       "        vertical-align: top;\n",
       "    }\n",
       "\n",
       "    .dataframe thead th {\n",
       "        text-align: right;\n",
       "    }\n",
       "</style>\n",
       "<table border=\"1\" class=\"dataframe\">\n",
       "  <thead>\n",
       "    <tr style=\"text-align: right;\">\n",
       "      <th></th>\n",
       "      <th>title</th>\n",
       "      <th>author</th>\n",
       "      <th>text</th>\n",
       "    </tr>\n",
       "  </thead>\n",
       "  <tbody>\n",
       "    <tr>\n",
       "      <th>1101</th>\n",
       "      <td>Who Will Tell the Story of Slavery? - The New ...</td>\n",
       "      <td>Lorne Manly</td>\n",
       "      <td>RICHMOND, VA.  —   Here in the onetime capital...</td>\n",
       "    </tr>\n",
       "    <tr>\n",
       "      <th>15473</th>\n",
       "      <td>Berlin, Putin, Trump, Israel: Your Friday Even...</td>\n",
       "      <td>Karen Zraick and Sandra Stevenson</td>\n",
       "      <td>(Want to get this briefing by email? Here’s th...</td>\n",
       "    </tr>\n",
       "    <tr>\n",
       "      <th>2948</th>\n",
       "      <td>Ahead of Trump Presidency, Global Investors Se...</td>\n",
       "      <td>Landon Thomas Jr.</td>\n",
       "      <td>Global investors have rendered their verdict o...</td>\n",
       "    </tr>\n",
       "    <tr>\n",
       "      <th>4819</th>\n",
       "      <td>Kidney Fund Seen Insisting on Donations, Contr...</td>\n",
       "      <td>Katie Thomas and Reed Abelson</td>\n",
       "      <td>The American Kidney Fund is one of the largest...</td>\n",
       "    </tr>\n",
       "    <tr>\n",
       "      <th>4441</th>\n",
       "      <td>Comment on Trump’s election will be the bigges...</td>\n",
       "      <td>Dr. Eowyn</td>\n",
       "      <td>Posted on October 27, 2016 by Dr. Eowyn | 10 C...</td>\n",
       "    </tr>\n",
       "  </tbody>\n",
       "</table>\n",
       "</div>"
      ],
      "text/plain": [
       "                                                   title  \\\n",
       "1101   Who Will Tell the Story of Slavery? - The New ...   \n",
       "15473  Berlin, Putin, Trump, Israel: Your Friday Even...   \n",
       "2948   Ahead of Trump Presidency, Global Investors Se...   \n",
       "4819   Kidney Fund Seen Insisting on Donations, Contr...   \n",
       "4441   Comment on Trump’s election will be the bigges...   \n",
       "\n",
       "                                  author  \\\n",
       "1101                         Lorne Manly   \n",
       "15473  Karen Zraick and Sandra Stevenson   \n",
       "2948                   Landon Thomas Jr.   \n",
       "4819       Katie Thomas and Reed Abelson   \n",
       "4441                           Dr. Eowyn   \n",
       "\n",
       "                                                    text  \n",
       "1101   RICHMOND, VA.  —   Here in the onetime capital...  \n",
       "15473  (Want to get this briefing by email? Here’s th...  \n",
       "2948   Global investors have rendered their verdict o...  \n",
       "4819   The American Kidney Fund is one of the largest...  \n",
       "4441   Posted on October 27, 2016 by Dr. Eowyn | 10 C...  "
      ]
     },
     "execution_count": 26,
     "metadata": {},
     "output_type": "execute_result"
    }
   ],
   "source": [
    "X_train.head()"
   ]
  },
  {
   "cell_type": "markdown",
   "metadata": {},
   "source": [
    "I will preprocess data using ColumnTransformer CountVectorizer and after with Tfidf Transformer:"
   ]
  },
  {
   "cell_type": "code",
   "execution_count": 5,
   "metadata": {},
   "outputs": [],
   "source": [
    "from sklearn.compose import ColumnTransformer\n",
    "from sklearn.feature_extraction.text import CountVectorizer\n",
    "\n",
    "vectorizer = ColumnTransformer(\n",
    "    [('cvect_title', CountVectorizer(), 'title'),\n",
    "     ('cvect_author', CountVectorizer(), 'author'),\n",
    "     ('cvect_text', CountVectorizer(), 'text')],\n",
    "     remainder='passthrough')"
   ]
  },
  {
   "cell_type": "code",
   "execution_count": 6,
   "metadata": {},
   "outputs": [],
   "source": [
    "X_train_vectorized = vectorizer.fit_transform(X_train)"
   ]
  },
  {
   "cell_type": "code",
   "execution_count": 7,
   "metadata": {},
   "outputs": [],
   "source": [
    "from sklearn.feature_extraction.text import TfidfTransformer\n",
    "\n",
    "transformer = TfidfTransformer(smooth_idf=False)"
   ]
  },
  {
   "cell_type": "code",
   "execution_count": 8,
   "metadata": {},
   "outputs": [],
   "source": [
    "X_train_transformed = transformer.fit_transform(X_train_vectorized)"
   ]
  },
  {
   "cell_type": "markdown",
   "metadata": {},
   "source": [
    "### Logistic Regression Model"
   ]
  },
  {
   "cell_type": "code",
   "execution_count": 16,
   "metadata": {},
   "outputs": [],
   "source": [
    "from sklearn.linear_model import LogisticRegression\n",
    "from sklearn.metrics import accuracy_score, classification_report, plot_confusion_matrix"
   ]
  },
  {
   "cell_type": "code",
   "execution_count": 17,
   "metadata": {},
   "outputs": [],
   "source": [
    "lr = LogisticRegression(max_iter=300, random_state=42, n_jobs=-1)"
   ]
  },
  {
   "cell_type": "markdown",
   "metadata": {},
   "source": [
    "Here I will check with Cross Validation how good is logistic regression model doing.\n",
    "They are not bad with 0.86 and 0.88."
   ]
  },
  {
   "cell_type": "code",
   "execution_count": 51,
   "metadata": {},
   "outputs": [
    {
     "data": {
      "text/plain": [
       "array([0.88351648, 0.86813187, 0.87142857, 0.88076923, 0.88131868,\n",
       "       0.88241758, 0.89175824, 0.87252747, 0.87527473, 0.88296703])"
      ]
     },
     "execution_count": 51,
     "metadata": {},
     "output_type": "execute_result"
    }
   ],
   "source": [
    "from sklearn.model_selection import cross_val_score\n",
    "lr_scores = cross_val_score(lr, X_train_transformed, y_train, scoring=\"accuracy\", cv=10)\n",
    "lr_scores"
   ]
  },
  {
   "cell_type": "code",
   "execution_count": 34,
   "metadata": {},
   "outputs": [
    {
     "data": {
      "text/plain": [
       "LogisticRegression(max_iter=300, n_jobs=-1, random_state=42)"
      ]
     },
     "execution_count": 34,
     "metadata": {},
     "output_type": "execute_result"
    }
   ],
   "source": [
    "lr.fit(X_train_transformed, y_train)"
   ]
  },
  {
   "cell_type": "markdown",
   "metadata": {},
   "source": [
    "Let's see how it is doing on the test data."
   ]
  },
  {
   "cell_type": "code",
   "execution_count": 19,
   "metadata": {},
   "outputs": [],
   "source": [
    "X_test_vectorized = vectorizer.transform(X_test)\n",
    "X_test_transformed = transformer.transform(X_test_vectorized)"
   ]
  },
  {
   "cell_type": "code",
   "execution_count": 35,
   "metadata": {},
   "outputs": [],
   "source": [
    "lr_y_test_predict = lr.predict(X_test_transformed)"
   ]
  },
  {
   "cell_type": "markdown",
   "metadata": {},
   "source": [
    "Predicting on the test data: It looks not bad, the confusion matrix and the accuracy of 0.88 quite nice."
   ]
  },
  {
   "cell_type": "code",
   "execution_count": 52,
   "metadata": {},
   "outputs": [
    {
     "data": {
      "text/plain": [
       "<sklearn.metrics._plot.confusion_matrix.ConfusionMatrixDisplay at 0x1154a2f0c40>"
      ]
     },
     "execution_count": 52,
     "metadata": {},
     "output_type": "execute_result"
    },
    {
     "data": {
      "image/png": "[encoded data removed]",
      "text/plain": [
       "<Figure size 432x288 with 2 Axes>"
      ]
     },
     "metadata": {
      "needs_background": "light"
     },
     "output_type": "display_data"
    }
   ],
   "source": [
    "plot_confusion_matrix(lr, X_test_transformed, y_test, values_format='.2f')"
   ]
  },
  {
   "cell_type": "code",
   "execution_count": 36,
   "metadata": {},
   "outputs": [
    {
     "name": "stdout",
     "output_type": "stream",
     "text": [
      "Classification report for LR:\n",
      "               precision    recall  f1-score   support\n",
      "\n",
      "           0       0.88      0.88      0.88      3829\n",
      "           1       0.88      0.89      0.88      3971\n",
      "\n",
      "    accuracy                           0.88      7800\n",
      "   macro avg       0.88      0.88      0.88      7800\n",
      "weighted avg       0.88      0.88      0.88      7800\n",
      "\n"
     ]
    }
   ],
   "source": [
    "lr_report = classification_report(y_test, lr_y_test_predict)\n",
    "print(\"Classification report for LR:\\n\", lr_report)"
   ]
  },
  {
   "cell_type": "markdown",
   "metadata": {},
   "source": [
    "So let's see if we can do better with logictic regression model and try to tune the hyperparameter C, the only one in this algorithm."
   ]
  },
  {
   "cell_type": "code",
   "execution_count": 56,
   "metadata": {},
   "outputs": [],
   "source": [
    "from sklearn.model_selection import GridSearchCV"
   ]
  },
  {
   "cell_type": "code",
   "execution_count": 57,
   "metadata": {},
   "outputs": [
    {
     "data": {
      "text/plain": [
       "{'C': 5}"
      ]
     },
     "execution_count": 57,
     "metadata": {},
     "output_type": "execute_result"
    }
   ],
   "source": [
    "lr_param_grid = [\n",
    "    {'C': [0.001, 0.1, 0.5, 1, 5, 10]}\n",
    "]\n",
    "\n",
    "lr_grid = GridSearchCV(lr, lr_param_grid, cv=10, scoring='accuracy')\n",
    "lr_grid.fit(X_train_transformed, y_train)\n",
    "lr_grid.best_params_"
   ]
  },
  {
   "cell_type": "markdown",
   "metadata": {},
   "source": [
    "#### So after see how other algorithms are doing I will stick with Logistic Regression Model"
   ]
  },
  {
   "cell_type": "code",
   "execution_count": 23,
   "metadata": {},
   "outputs": [],
   "source": [
    "model = LogisticRegression(C=5, max_iter=300, random_state=42, n_jobs=-1)"
   ]
  },
  {
   "cell_type": "markdown",
   "metadata": {},
   "source": [
    "### Naive Bayes"
   ]
  },
  {
   "cell_type": "code",
   "execution_count": 59,
   "metadata": {},
   "outputs": [],
   "source": [
    "from sklearn.naive_bayes import MultinomialNB"
   ]
  },
  {
   "cell_type": "code",
   "execution_count": 60,
   "metadata": {},
   "outputs": [],
   "source": [
    "nb = MultinomialNB()"
   ]
  },
  {
   "cell_type": "markdown",
   "metadata": {},
   "source": [
    "Here I will check with Cross Validation how good is Naive Bayes model doing. They are not so bad with 0.86."
   ]
  },
  {
   "cell_type": "code",
   "execution_count": 61,
   "metadata": {},
   "outputs": [
    {
     "data": {
      "text/plain": [
       "array([0.86098901, 0.85934066, 0.85934066, 0.85824176, 0.86483516,\n",
       "       0.85769231, 0.86813187, 0.85384615, 0.86043956, 0.86208791])"
      ]
     },
     "execution_count": 61,
     "metadata": {},
     "output_type": "execute_result"
    }
   ],
   "source": [
    "nb_scores = cross_val_score(nb, X_train_vectorized, y_train, scoring=\"accuracy\", cv=10)\n",
    "nb_scores"
   ]
  },
  {
   "cell_type": "code",
   "execution_count": 62,
   "metadata": {},
   "outputs": [
    {
     "data": {
      "text/plain": [
       "MultinomialNB()"
      ]
     },
     "execution_count": 62,
     "metadata": {},
     "output_type": "execute_result"
    }
   ],
   "source": [
    "nb.fit(X_train_vectorized, y_train)"
   ]
  },
  {
   "cell_type": "markdown",
   "metadata": {},
   "source": [
    "Predicting on the test data: the confusion matrix looks not bad and the accuracy of 0.86 is quite nice, well for a Naive Bayes basic algorithm."
   ]
  },
  {
   "cell_type": "code",
   "execution_count": 63,
   "metadata": {},
   "outputs": [
    {
     "data": {
      "text/plain": [
       "<sklearn.metrics._plot.confusion_matrix.ConfusionMatrixDisplay at 0x1154c327520>"
      ]
     },
     "execution_count": 63,
     "metadata": {},
     "output_type": "execute_result"
    },
    {
     "data": {
      "image/png": "[encoded data removed]",
      "text/plain": [
       "<Figure size 432x288 with 2 Axes>"
      ]
     },
     "metadata": {
      "needs_background": "light"
     },
     "output_type": "display_data"
    }
   ],
   "source": [
    "plot_confusion_matrix(nb, X_test_vectorized, y_test, values_format='.2f')"
   ]
  },
  {
   "cell_type": "code",
   "execution_count": 64,
   "metadata": {},
   "outputs": [],
   "source": [
    "nb_y_test_predict = nb.predict(X_test_vectorized)"
   ]
  },
  {
   "cell_type": "code",
   "execution_count": 65,
   "metadata": {},
   "outputs": [
    {
     "name": "stdout",
     "output_type": "stream",
     "text": [
      "Classification report for NB:\n",
      "               precision    recall  f1-score   support\n",
      "\n",
      "           0       0.82      0.91      0.86      3829\n",
      "           1       0.90      0.81      0.85      3971\n",
      "\n",
      "    accuracy                           0.86      7800\n",
      "   macro avg       0.86      0.86      0.86      7800\n",
      "weighted avg       0.86      0.86      0.86      7800\n",
      "\n"
     ]
    }
   ],
   "source": [
    "nb_report = classification_report(y_test, nb_y_test_predict)\n",
    "print(\"Classification report for NB:\\n\", nb_report)"
   ]
  },
  {
   "cell_type": "markdown",
   "metadata": {},
   "source": [
    "### Support Vector Machines"
   ]
  },
  {
   "cell_type": "markdown",
   "metadata": {},
   "source": [
    "There is no way to compute Cross Validation and GridSearch in a reasonable time. The predictions look nice but the computation time is much to long."
   ]
  },
  {
   "cell_type": "code",
   "execution_count": 52,
   "metadata": {},
   "outputs": [],
   "source": [
    "from sklearn.svm import SVC"
   ]
  },
  {
   "cell_type": "code",
   "execution_count": 53,
   "metadata": {},
   "outputs": [],
   "source": [
    "svm = SVC(kernel='linear', random_state=42)"
   ]
  },
  {
   "cell_type": "code",
   "execution_count": null,
   "metadata": {},
   "outputs": [],
   "source": [
    "svm_scores = cross_val_score(svm, X_train_transformed, y_train, scoring=\"accuracy\", cv=10)\n",
    "svm_scores"
   ]
  },
  {
   "cell_type": "code",
   "execution_count": 54,
   "metadata": {},
   "outputs": [
    {
     "data": {
      "text/plain": [
       "SVC(kernel='linear', random_state=42)"
      ]
     },
     "execution_count": 54,
     "metadata": {},
     "output_type": "execute_result"
    }
   ],
   "source": [
    "svm.fit(X_train_transformed, y_train)"
   ]
  },
  {
   "cell_type": "code",
   "execution_count": 55,
   "metadata": {},
   "outputs": [
    {
     "data": {
      "text/plain": [
       "<sklearn.metrics._plot.confusion_matrix.ConfusionMatrixDisplay at 0x1aee91bbee0>"
      ]
     },
     "execution_count": 55,
     "metadata": {},
     "output_type": "execute_result"
    },
    {
     "data": {
      "image/png": "[encoded data removed]",
      "text/plain": [
       "<Figure size 432x288 with 2 Axes>"
      ]
     },
     "metadata": {
      "needs_background": "light"
     },
     "output_type": "display_data"
    }
   ],
   "source": [
    "plot_confusion_matrix(svm, X_test_transformed, y_test, values_format='.2f')"
   ]
  },
  {
   "cell_type": "code",
   "execution_count": 76,
   "metadata": {},
   "outputs": [],
   "source": [
    "svm_y_test_predict = svm.predict(X_test_transformed)"
   ]
  },
  {
   "cell_type": "code",
   "execution_count": 77,
   "metadata": {},
   "outputs": [
    {
     "name": "stdout",
     "output_type": "stream",
     "text": [
      "Classification report for SVM:\n",
      "               precision    recall  f1-score   support\n",
      "\n",
      "           0       0.90      0.91      0.90      3829\n",
      "           1       0.91      0.90      0.91      3971\n",
      "\n",
      "    accuracy                           0.91      7800\n",
      "   macro avg       0.91      0.91      0.91      7800\n",
      "weighted avg       0.91      0.91      0.91      7800\n",
      "\n"
     ]
    }
   ],
   "source": [
    "svm_report = classification_report(y_test, svm_y_test_predict)\n",
    "print(\"Classification report for SVM:\\n\", svm_report)"
   ]
  },
  {
   "cell_type": "code",
   "execution_count": null,
   "metadata": {},
   "outputs": [],
   "source": [
    "svm_param_grid = [\n",
    "    {'C': [0.1, 0.5, 1, 5, 10, 20, 30],\n",
    "     'degree': [3, 5, 7, 9]}\n",
    "]\n",
    "\n",
    "svm_grid = GridSearchCV(svm, svm_param_grid, cv=10, scoring='accuracy')\n",
    "svm_grid.fit(X_train_transformed, y_train)\n",
    "svm_grid.best_params_"
   ]
  },
  {
   "cell_type": "markdown",
   "metadata": {},
   "source": [
    "### Random Forest"
   ]
  },
  {
   "cell_type": "code",
   "execution_count": 10,
   "metadata": {},
   "outputs": [],
   "source": [
    "from sklearn.ensemble import RandomForestClassifier"
   ]
  },
  {
   "cell_type": "code",
   "execution_count": 77,
   "metadata": {},
   "outputs": [],
   "source": [
    "rf = RandomForestClassifier(random_state=42, n_jobs=-1)"
   ]
  },
  {
   "cell_type": "markdown",
   "metadata": {},
   "source": [
    "Here I will check with Cross Validation how good is RandomForest Classifier model doing. The scores are not so bad with 0.86 til 0.88."
   ]
  },
  {
   "cell_type": "code",
   "execution_count": null,
   "metadata": {},
   "outputs": [],
   "source": [
    "rf_scores = cross_val_score(rf, X_train_transformed, y_train, scoring=\"accuracy\", cv=10, n_jobs=-1)\n",
    "rf_scores"
   ]
  },
  {
   "cell_type": "code",
   "execution_count": 78,
   "metadata": {},
   "outputs": [
    {
     "data": {
      "text/plain": [
       "RandomForestClassifier(n_jobs=-1, random_state=42)"
      ]
     },
     "execution_count": 78,
     "metadata": {},
     "output_type": "execute_result"
    }
   ],
   "source": [
    "rf.fit(X_train_transformed, y_train)"
   ]
  },
  {
   "cell_type": "markdown",
   "metadata": {},
   "source": [
    "Predicting on the test data: the confusion matrix looks not bad and the accuracy of 0.85 is quite nice, but a bit worst than Logisitic Regression."
   ]
  },
  {
   "cell_type": "code",
   "execution_count": 79,
   "metadata": {},
   "outputs": [
    {
     "data": {
      "text/plain": [
       "<sklearn.metrics._plot.confusion_matrix.ConfusionMatrixDisplay at 0x1154c98cf40>"
      ]
     },
     "execution_count": 79,
     "metadata": {},
     "output_type": "execute_result"
    },
    {
     "data": {
      "image/png": "[encoded data removed]",
      "text/plain": [
       "<Figure size 432x288 with 2 Axes>"
      ]
     },
     "metadata": {
      "needs_background": "light"
     },
     "output_type": "display_data"
    }
   ],
   "source": [
    "plot_confusion_matrix(rf, X_test_transformed, y_test, values_format='.2f')"
   ]
  },
  {
   "cell_type": "code",
   "execution_count": 80,
   "metadata": {},
   "outputs": [],
   "source": [
    "rf_y_test_predict = rf.predict(X_test_transformed)"
   ]
  },
  {
   "cell_type": "code",
   "execution_count": 81,
   "metadata": {},
   "outputs": [
    {
     "name": "stdout",
     "output_type": "stream",
     "text": [
      "Classification report for RF:\n",
      "               precision    recall  f1-score   support\n",
      "\n",
      "           0       0.85      0.84      0.84      3829\n",
      "           1       0.85      0.85      0.85      3971\n",
      "\n",
      "    accuracy                           0.85      7800\n",
      "   macro avg       0.85      0.85      0.85      7800\n",
      "weighted avg       0.85      0.85      0.85      7800\n",
      "\n"
     ]
    }
   ],
   "source": [
    "rf_report = classification_report(y_test, rf_y_test_predict)\n",
    "print(\"Classification report for RF:\\n\", rf_report)"
   ]
  },
  {
   "cell_type": "code",
   "execution_count": null,
   "metadata": {},
   "outputs": [],
   "source": [
    "rf_param_grid = [\n",
    "    {'n_estimators': [10, 50, 100, 200, 300, 700], \n",
    "     'max_depth': [50, 60, 70, 80]}\n",
    "]\n",
    "\n",
    "rf_grid = GridSearchCV(rf, rf_param_grid, cv=10, scoring='accuracy')\n",
    "rf_grid.fit(X_train_transformed, y_train)\n",
    "rf_grid.best_params_"
   ]
  },
  {
   "cell_type": "markdown",
   "metadata": {},
   "source": [
    "{'max_depth': 80, 'n_estimators': 700}"
   ]
  },
  {
   "cell_type": "markdown",
   "metadata": {},
   "source": [
    "## Evaluating the model"
   ]
  },
  {
   "cell_type": "markdown",
   "metadata": {},
   "source": [
    "So let's check out how my tuned Logistic Regression Model is doing on the test data."
   ]
  },
  {
   "cell_type": "code",
   "execution_count": 39,
   "metadata": {
    "scrolled": true
   },
   "outputs": [
    {
     "data": {
      "text/plain": [
       "LogisticRegression(C=5, max_iter=300, n_jobs=-1, random_state=42)"
      ]
     },
     "execution_count": 39,
     "metadata": {},
     "output_type": "execute_result"
    }
   ],
   "source": [
    "model.fit(X_train_transformed, y_train)"
   ]
  },
  {
   "cell_type": "code",
   "execution_count": 40,
   "metadata": {},
   "outputs": [],
   "source": [
    "y_predict = model.predict(X_test_transformed)"
   ]
  },
  {
   "cell_type": "markdown",
   "metadata": {},
   "source": [
    "Predicting with tuned model on the test data: the confusion matrix looks good and the accuracy of 0.89 is nice."
   ]
  },
  {
   "cell_type": "code",
   "execution_count": 41,
   "metadata": {},
   "outputs": [
    {
     "data": {
      "text/plain": [
       "<sklearn.metrics._plot.confusion_matrix.ConfusionMatrixDisplay at 0x1aeda768730>"
      ]
     },
     "execution_count": 41,
     "metadata": {},
     "output_type": "execute_result"
    },
    {
     "data": {
      "image/png": "[encoded data removed]",
      "text/plain": [
       "<Figure size 432x288 with 2 Axes>"
      ]
     },
     "metadata": {
      "needs_background": "light"
     },
     "output_type": "display_data"
    }
   ],
   "source": [
    "plot_confusion_matrix(model, X_test_transformed, y_test, values_format='.2f')"
   ]
  },
  {
   "cell_type": "markdown",
   "metadata": {},
   "source": [
    "Due to the balanced amount of fake and true news in the dataset the precision and recall for both classes are the same. Would be critical to fish out all fake news I would risk a higher recall (getting more false positives from class 0) for class 1 (fake) by changing the decision treshold. Below I will check if such a change of treshold makes sense."
   ]
  },
  {
   "cell_type": "code",
   "execution_count": 43,
   "metadata": {},
   "outputs": [
    {
     "name": "stdout",
     "output_type": "stream",
     "text": [
      "Classification report for Model:\n",
      "               precision    recall  f1-score   support\n",
      "\n",
      "           0       0.89      0.89      0.89      3829\n",
      "           1       0.89      0.89      0.89      3971\n",
      "\n",
      "    accuracy                           0.89      7800\n",
      "   macro avg       0.89      0.89      0.89      7800\n",
      "weighted avg       0.89      0.89      0.89      7800\n",
      "\n"
     ]
    }
   ],
   "source": [
    "model_report = classification_report(y_test, y_predict)\n",
    "print(\"Classification report for Model:\\n\", model_report)"
   ]
  },
  {
   "cell_type": "code",
   "execution_count": 37,
   "metadata": {},
   "outputs": [],
   "source": [
    "from sklearn.metrics import roc_curve, roc_auc_score, precision_recall_curve"
   ]
  },
  {
   "cell_type": "markdown",
   "metadata": {},
   "source": [
    "The ROC AUC Score is not bad with almost 0.95."
   ]
  },
  {
   "cell_type": "code",
   "execution_count": 44,
   "metadata": {},
   "outputs": [
    {
     "name": "stdout",
     "output_type": "stream",
     "text": [
      "AUC score:\n",
      " 0.9489581655563819\n"
     ]
    }
   ],
   "source": [
    "auc = roc_auc_score(y_test, model.predict_proba(X_test_transformed)[:,1])\n",
    "print(\"AUC score:\\n\", auc)"
   ]
  },
  {
   "cell_type": "markdown",
   "metadata": {},
   "source": [
    "On the plot of Precision vs. Recall we can observe that changing the treshold to find all fake news will not be really possible with this model. Setting Precision higher will put down Recall so that we end up with many Fals Positives. A Precision close to 0.95 give us a Recall of around 50%!"
   ]
  },
  {
   "cell_type": "code",
   "execution_count": 45,
   "metadata": {},
   "outputs": [
    {
     "data": {
      "image/png": "[encoded data removed]",
      "text/plain": [
       "<Figure size 576x432 with 1 Axes>"
      ]
     },
     "metadata": {
      "needs_background": "light"
     },
     "output_type": "display_data"
    }
   ],
   "source": [
    "precisions, recalls, thresholds = precision_recall_curve(y_test, y_predict)\n",
    "def plot_precision_vs_recall(precisions, recalls):\n",
    "    plt.plot(recalls, precisions, \"b-\", linewidth=2)\n",
    "    plt.xlabel(\"Recall\", fontsize=16)\n",
    "    plt.ylabel(\"Precision\", fontsize=16)\n",
    "    plt.axis([0, 1, 0, 1])\n",
    "    plt.grid(True)\n",
    "\n",
    "plt.figure(figsize=(8, 6))\n",
    "plot_precision_vs_recall(precisions, recalls)\n",
    "plt.show()"
   ]
  },
  {
   "cell_type": "markdown",
   "metadata": {},
   "source": [
    "On the plot of the ROC Curve we can observe the tradoff of True Positive Rate and False Positive Rate. So we can see that trying to force True positive rate (Recall) up of 0.89 will bring us a fast grow of False Positive Rate."
   ]
  },
  {
   "cell_type": "code",
   "execution_count": 46,
   "metadata": {},
   "outputs": [
    {
     "data": {
      "image/png": "[encoded data removed]",
      "text/plain": [
       "<Figure size 576x432 with 1 Axes>"
      ]
     },
     "metadata": {
      "needs_background": "light"
     },
     "output_type": "display_data"
    }
   ],
   "source": [
    "fpr, tpr, threshs = roc_curve(y_test, y_predict)\n",
    "def plot_roc_curve(fpr, tpr, label=None):\n",
    "    plt.plot(fpr, tpr, linewidth=2, label=label)\n",
    "    plt.plot([0, 1], [0, 1], 'k--') # dashed diagonal\n",
    "    plt.axis([0, 1, 0, 1])\n",
    "    plt.xlabel('False Positive Rate (Fall-Out)', fontsize=16)\n",
    "    plt.ylabel('True Positive Rate (Recall)', fontsize=16)\n",
    "    plt.grid(True)\n",
    "\n",
    "plt.figure(figsize=(8, 6))\n",
    "plot_roc_curve(fpr, tpr)\n",
    "plt.show()"
   ]
  },
  {
   "cell_type": "markdown",
   "metadata": {},
   "source": [
    "## Testing the model"
   ]
  },
  {
   "cell_type": "markdown",
   "metadata": {},
   "source": [
    "ok. So let's see how my model will do with brand actuell news. Quite interessting!"
   ]
  },
  {
   "cell_type": "markdown",
   "metadata": {},
   "source": [
    "X_test_1 is a real news from BBC."
   ]
  },
  {
   "cell_type": "code",
   "execution_count": 47,
   "metadata": {},
   "outputs": [
    {
     "name": "stdout",
     "output_type": "stream",
     "text": [
      "Great!!! You can read this news, it is trustfull!\n"
     ]
    }
   ],
   "source": [
    "X_test_1_d = {'title': [\"\"\"Belgium surge likened to tsunami\"\"\"],\n",
    "        'author': [\"\"\"Gavin Lee\"\"\"],\n",
    "        'text': [\"\"\"\n",
    "        \"We are close to a tsunami\": that was the stark warning on the gravity of the situation in Belgium, from health minister Frank Vandenbroucke.\n",
    "He told reporters that a “tsunami” would be a scenario where “we no longer control what is happening\". The health pressures in Brussels and the southern French-speaking Wallonia region were “the most dangerous in all of Europe”, he said.\n",
    "Belgium is now recording on average almost 8,000 cases a day. Most are in Brussels and Liège. That figure is four times higher than the daily average only two weeks ago.\n",
    "In the past three days, more than 10,000 daily cases were recorded.\n",
    "The death rate is also slowly rising again, at around 30 per day. But that is still 10 times less than at the peak of the first wave, when Belgium had the world’s highest coronavirus death rate per capita.\n",
    "There is concern over medical staff and their ability to cope with an influx of cases. Several hospitals in Brussels and Liège have started sending patients elsewhere to avoid saturation. In some cases hospitals in Aalst and Charleroi refused to accept new Covid patients. The mayor of Aalst, Christophe D’Haese, said “the limits of medical solidarity\" had been reached.\n",
    "Doctors' surgeries are also feeling the strain. On Friday, I called my GP for a check-up and was told to avoid coming in because the chance of contracting coronavirus was too high. The doctor said the place was “an aquarium of Covid cases”. Authorities here blame the spread on “pandemic fatigue” - people becoming complacent and no longer observing social distancing rules.\n",
    "                 \"\"\"]\n",
    "        }\n",
    "X_test_1 = pd.DataFrame(X_test_1_d, columns = ['title', 'author', 'text'])\n",
    "\n",
    "y_test_1 = pd.DataFrame({0}, columns = ['label'])\n",
    "\n",
    "X_test_1_vectorized = vectorizer.transform(X_test_1)\n",
    "X_test_1_transformed = transformer.transform(X_test_1_vectorized)\n",
    "\n",
    "prediction_test_1 = model.predict(X_test_1_transformed)\n",
    "\n",
    "if prediction_test_1:\n",
    "  print(\"Look out!!! You should not take this news seriously, it's not trustfull!\")\n",
    "else:\n",
    "  print(\"Great!!! You can read this news, it is trustfull!\")"
   ]
  },
  {
   "cell_type": "code",
   "execution_count": 89,
   "metadata": {},
   "outputs": [
    {
     "data": {
      "text/plain": [
       "array([[0.66088835, 0.33911165]])"
      ]
     },
     "execution_count": 89,
     "metadata": {},
     "output_type": "execute_result"
    }
   ],
   "source": [
    "prediction_test_1_a = model.predict_proba(X_test_1_transformed)\n",
    "np.set_printoptions(suppress=True)\n",
    "prediction_test_1_a"
   ]
  },
  {
   "cell_type": "markdown",
   "metadata": {},
   "source": [
    "X_test_2 is a real news from BBC."
   ]
  },
  {
   "cell_type": "code",
   "execution_count": 48,
   "metadata": {},
   "outputs": [
    {
     "name": "stdout",
     "output_type": "stream",
     "text": [
      "Look out!!! You should not take this news seriously, it's not trustfull!\n"
     ]
    }
   ],
   "source": [
    "X_test_2_d = {'title': [\"\"\"What does 'no-deal' Australia-style Brexit mean?\"\"\"],\n",
    "        'author': [\"\"\"Chris Morris\"\"\"],\n",
    "        'text': [\"\"\"\n",
    "        Remember how this time last year we were talking about a no-deal Brexit? Well, it's back.\n",
    "It is not exactly the same thing, because the UK left the European Union (EU) on 31 January.\n",
    "The UK is now in a transition period with the EU until the end of the year, which means it is still following EU rules and trade stays the same. The transition was designed to give both sides a bit of time to negotiate a future trade agreement.\n",
    "But if there is no trade deal by 31 December, the UK would automatically fall back on the rules of the World Trade Organization (WTO).\n",
    "The government now refers to this outcome as an \"Australia-style deal\" (Australia trades with the EU largely on WTO rules) but - as Business Secretary Alok Sharma admits - the difference between no deal and an Australia deal is \"a question of semantics at the end of the day\".\n",
    "What is the WTO?\n",
    "The WTO is the place where countries negotiate the rules of international trade - there are 164 members and if they don't have free-trade agreements with each other, they trade under basic \"WTO rules\".\n",
    "Every member has a list of tariffs (taxes on imports of goods) and quotas (limits on the number of goods) that they apply to other countries with which they don't have a deal. These are known as WTO schedules.\n",
    "How does trade with the EU work now?\n",
    "The EU is the UK's biggest single trading partner. In 2019, it accounted for:\n",
    "43% of UK exports\n",
    "51% of UK imports\n",
    "As an EU member, the UK was part of its trading system - the customs union and the single market. This meant there were no tariffs on goods traded between the two, and minimal border checks.\n",
    "This arrangement continues until the end of the transition period.\n",
    "The two sides have been trying to reach a new free-trade agreement, which would get rid of tariffs and quotas but not new border bureaucracy. But the time to do that is fast running out.\n",
    "Don't other countries trade with the EU on WTO rules?\n",
    "Yes, examples include the United States and China, Brazil and Australia.\n",
    "In fact, it's any country with which the EU has not signed a free-trade deal. That's when WTO rules kick in.\n",
    "But those big economies don't just rely on basic WTO rules - they have all done other deals with the EU to help facilitate trade.\n",
    "The US, for example, has at least 20 agreements with the EU that help regulate specific sectors, covering everything from wine and bananas to insurance and energy-efficiency labelling.\n",
    "Australia also has such agreements, including a 2008 deal that made it easier for Australian wine to access European markets.\n",
    "An Australia-style deal?\n",
    "So, the \"Australia-style deal\" being talked about by the government would mean the UK trading with the EU in roughly the same way Australia does.\n",
    "But there are no guarantees that side deals covering specific sectors would be done before the end of the year, so it amounts to the same thing as leaving without any trade agreement, and trading on WTO rules.\n",
    "It's also important to consider geography, and volume of trade.\n",
    "Australia is on the other side of the world, whereas the UK is the EU's next-door neighbour. That means Australia doesn't do nearly as much trade with the EU as the UK does.\n",
    "And it doesn't rely on the EU in the way the UK does, for the operation of just-in-time supply chains in sectors such as cars, pharmaceuticals and food.\n",
    "In other words, border checks and delays have far less impact on EU-Australia trade than they would on EU-UK trade.\n",
    "It's also worth nothing that Australia wants to improve its trading relationship with the EU - the two sides have been negotiating a free trade deal since 2018.\n",
    "Why is the government also talking about a Canada-style deal?\n",
    "The government has said repeatedly that it wants a free-trade deal along the lines of the one the EU has with Canada.\n",
    "What is a 'Canada-style' trade deal?\n",
    "The UK and the EU have been trying to negotiate an agreement that would have no tariffs or quotas at all.\n",
    "                 \"\"\"]\n",
    "        }\n",
    "X_test_2 = pd.DataFrame(X_test_2_d, columns = ['title', 'author', 'text'])\n",
    "\n",
    "y_test_2 = pd.DataFrame({0}, columns = ['label'])\n",
    "\n",
    "X_test_2_vectorized = vectorizer.transform(X_test_2)\n",
    "X_test_2_transformed = transformer.transform(X_test_2_vectorized)\n",
    "\n",
    "prediction_test_2 = model.predict(X_test_2_transformed)\n",
    "\n",
    "if prediction_test_2:\n",
    "  print(\"Look out!!! You should not take this news seriously, it's not trustfull!\")\n",
    "else:\n",
    "  print(\"Great!!! You can read this news, it is trustfull!\")"
   ]
  },
  {
   "cell_type": "code",
   "execution_count": 90,
   "metadata": {},
   "outputs": [
    {
     "data": {
      "text/plain": [
       "array([[0.14761369, 0.85238631]])"
      ]
     },
     "execution_count": 90,
     "metadata": {},
     "output_type": "execute_result"
    }
   ],
   "source": [
    "prediction_test_2_a = model.predict_proba(X_test_2_transformed)\n",
    "prediction_test_2_a"
   ]
  },
  {
   "cell_type": "markdown",
   "metadata": {},
   "source": [
    "X_test_3 is a fake news from Breitbart."
   ]
  },
  {
   "cell_type": "code",
   "execution_count": 49,
   "metadata": {},
   "outputs": [
    {
     "name": "stdout",
     "output_type": "stream",
     "text": [
      "Look out!!! You should not take this news seriously, it's not trustfull!\n"
     ]
    }
   ],
   "source": [
    "X_test_3_d = {'title': [\"\"\"Master of the Universe Controls *90%* of Online Searches\"\"\"],\n",
    "        'author': [\"\"\"Lucas Nolan\"\"\"],\n",
    "        'text': [\"\"\"\n",
    "        The Justice Department has filed its long-awaited antitrust lawsuit against Google, \n",
    "        alleging that the Big Tech Masters of the Universe engaged in anticompetitive practices to preserve its monopoly \n",
    "        power and crush competitors to its search and advertising businesses. The Wall Street Journal first broke the story \n",
    "        on Tuesday morning that the lawsuit would finally be filed.\n",
    "        According to a report by Reuters, the DOJ has filed its hotly-anticipated antitrust lawsuit against Google. 11 states \n",
    "        also joined the DOJ action against the internet giant.\n",
    "        The Reuters report confirms the news this morning from the Wall Street Journal that the Justice Department would \n",
    "        file an antitrust lawsuit against tech giant Google today, claiming that the company engaged in anticompetitive practices\n",
    "        in order to preserve monopolies in the search and advertising components that make up huge sections of the tech firm’s \n",
    "        main \n",
    "        business.\n",
    "        Breitbart News previously reported that the Justice Department has been planning to bring an antitrust case against\n",
    "        Google for some time. The recent filing comes after Attorney General William P. Barr reportedly overruled lawyers \n",
    "        who said they needed more time to build a case against the tech giant.\n",
    "It was reported that the company has been under investigation for almost a year with dozens of Justice Department\n",
    "lawyers working in two groups, each overseeing a separate line of inquiry. The two main areas being investigated were \n",
    "Google’s dominance in search and the company’s control over the online advertising ecosystem.\n",
    "Google has control over approximately 90 percent of web searches worldwide, many rivals have complained that  Google extends \n",
    "its dominance by making its search and browsing tools defaults on phones running its Android operating system.\n",
    "                 \"\"\"]\n",
    "        }\n",
    "X_test_3 = pd.DataFrame(X_test_3_d, columns = ['title', 'author', 'text'])\n",
    "\n",
    "y_test_3 = pd.DataFrame({1}, columns = ['label'])\n",
    "\n",
    "X_test_3_vectorized = vectorizer.transform(X_test_3)\n",
    "X_test_3_transformed = transformer.transform(X_test_3_vectorized)\n",
    "\n",
    "prediction_test_3 = model.predict(X_test_3_transformed)\n",
    "\n",
    "if prediction_test_3:\n",
    "  print(\"Look out!!! You should not take this news seriously, it's not trustfull!\")\n",
    "else:\n",
    "  print(\"Great!!! You can read this news, it is trustfull!\")"
   ]
  },
  {
   "cell_type": "code",
   "execution_count": 91,
   "metadata": {},
   "outputs": [
    {
     "data": {
      "text/plain": [
       "array([[0.41545041, 0.58454959]])"
      ]
     },
     "execution_count": 91,
     "metadata": {},
     "output_type": "execute_result"
    }
   ],
   "source": [
    "prediction_test_3_a = model.predict_proba(X_test_3_transformed)\n",
    "prediction_test_3_a"
   ]
  },
  {
   "cell_type": "markdown",
   "metadata": {},
   "source": [
    "X_test_4 is a fake news from theOnion."
   ]
  },
  {
   "cell_type": "code",
   "execution_count": 95,
   "metadata": {},
   "outputs": [
    {
     "name": "stdout",
     "output_type": "stream",
     "text": [
      "Look out!!! You should not take this news seriously, it's not trustfull!\n"
     ]
    }
   ],
   "source": [
    "X_test_4_d = {'title': [\"\"\"Trump Attempts To Soften Image Before Election By Adopting Dead Dog\"\"\"],\n",
    "        'author': [\"\"\"\"\"\"],\n",
    "        'text': [\"\"\"\n",
    "        WASHINGTON—Flopping the putrescent animal carcass down in the Oval Office with an introduction of “call \n",
    "        him whatever you want, I don’t care,” President Donald Trump announced Monday that the first family had a new \n",
    "        member, a dead dog reportedly adopted to soften his image before election day. “I saw this on the side of the road \n",
    "        and I told the Secret Service, ‘Stop the motorcade, that’s it, that’s a brilliant idea, it’s gonna be perfect,’” \n",
    "        said Trump as he grabbed an ear to lift up the limp, withered remains of the golden retriever, allowing the media \n",
    "        to capture a few images of the deceased canine before its ear tore away, its body fell at his feet, and its head \n",
    "        rolled down a limestone walkway in a puddle of blood and brain matter. “That’s good, lie down. And stay down, okay? \n",
    "        They say if you want a friend in Washington, get one of these—of course, I have friends already, so many friends, \n",
    "        but here it is anyway. Here’s a dog. Everyone says this breed is very loyal, so we’ll see, we’ll see. Could become \n",
    "        the best dog any president has ever had. I’m told it has a great pedigree, and I’m expecting great things.” At \n",
    "        press time, Trump was seen kicking the dead dog’s head down the West Wing Colonnade after internal polling showed \n",
    "        its approval rating was higher than his.\n",
    "                 \"\"\"]\n",
    "        }\n",
    "X_test_4 = pd.DataFrame(X_test_4_d, columns = ['title', 'author', 'text'])\n",
    "\n",
    "y_test_4 = pd.DataFrame({1}, columns = ['label'])\n",
    "\n",
    "X_test_4_vectorized = vectorizer.transform(X_test_4)\n",
    "X_test_4_transformed = transformer.transform(X_test_4_vectorized)\n",
    "\n",
    "prediction_test_4 = model.predict(X_test_4_transformed)\n",
    "\n",
    "if prediction_test_3:\n",
    "  print(\"Look out!!! You should not take this news seriously, it's not trustfull!\")\n",
    "else:\n",
    "  print(\"Great!!! You can read this news, it is trustfull!\")"
   ]
  },
  {
   "cell_type": "code",
   "execution_count": 96,
   "metadata": {},
   "outputs": [
    {
     "name": "stdout",
     "output_type": "stream",
     "text": [
      "[[0.25320506 0.74679494]]\n"
     ]
    }
   ],
   "source": [
    "prediction_test_4_a = model.predict_proba(X_test_4_transformed)\n",
    "print(prediction_test_4_a)"
   ]
  },
  {
   "cell_type": "markdown",
   "metadata": {},
   "source": [
    "## Pickling model for deployment"
   ]
  },
  {
   "cell_type": "code",
   "execution_count": 98,
   "metadata": {},
   "outputs": [],
   "source": [
    "import pickle\n",
    "\n",
    "pickle.dump(model, open(\"fake_news_model.sav\", \"wb\"))\n",
    "pickle.dump(vectorizer, open(\"fake_news_vectorizer.sav\", \"wb\"))\n",
    "pickle.dump(transformer, open(\"fake_news_transformer.sav\", \"wb\"))"
   ]
  }
 ],
 "metadata": {
  "kernelspec": {
   "display_name": "Python 3",
   "language": "python",
   "name": "python3"
  },
  "language_info": {
   "codemirror_mode": {
    "name": "ipython",
    "version": 3
   },
   "file_extension": ".py",
   "mimetype": "text/x-python",
   "name": "python",
   "nbconvert_exporter": "python",
   "pygments_lexer": "ipython3",
   "version": "3.8.5"
  }
 },
 "nbformat": 4,
 "nbformat_minor": 4
}
